{
 "cells": [
  {
   "cell_type": "code",
   "execution_count": null,
   "metadata": {},
   "outputs": [],
   "source": [
    "import matplotlib.pyplot as plt\n",
    "\n",
    "#Oppgave 3\n",
    "\n",
    "def f(x):\n",
    "    return 2*x+3\n",
    "\n",
    "x = []\n",
    "y = []\n",
    "\n",
    "for i in range(0,101):\n",
    "    x.append(i)\n",
    "    y.append(f(i))\n",
    "\n",
    "plt.axhline(0, color=\"pink\", zorder=0)\n",
    "plt.axvline(0, color = \"pink\", zorder=0)\n",
    "\n",
    "plt.plot(x,y)\n",
    "plt.show()\n"
   ]
  }
 ],
 "metadata": {
  "language_info": {
   "name": "python"
  },
  "orig_nbformat": 4
 },
 "nbformat": 4,
 "nbformat_minor": 2
}
